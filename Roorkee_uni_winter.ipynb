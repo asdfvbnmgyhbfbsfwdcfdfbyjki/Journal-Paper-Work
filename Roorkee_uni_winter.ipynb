{
 "cells": [
  {
   "cell_type": "code",
   "execution_count": 1,
   "id": "ad166790",
   "metadata": {},
   "outputs": [],
   "source": [
    "import pandas as pd\n",
    "import numpy as np\n",
    "import seaborn as sns\n",
    "import matplotlib.pyplot as plt\n",
    "%matplotlib inline\n",
    "from datetime import datetime "
   ]
  },
  {
   "cell_type": "code",
   "execution_count": 3,
   "id": "52e37a8c",
   "metadata": {},
   "outputs": [],
   "source": [
    "df1=pd.read_excel('D:/newdataset/jan.xlsx')\n",
    "df2=pd.read_excel('D:/newdataset/feb.xlsx')\n",
    "df3=pd.read_excel('D:/newdataset/dec.xlsx')"
   ]
  },
  {
   "cell_type": "code",
   "execution_count": 6,
   "id": "5e2e77f0",
   "metadata": {},
   "outputs": [],
   "source": [
    "df=pd.concat([df1, df2, df3], axis=0)"
   ]
  },
  {
   "cell_type": "code",
   "execution_count": 7,
   "id": "33457715",
   "metadata": {},
   "outputs": [],
   "source": [
    "df['GHI1'] = df['GHI'].shift(1)\n",
    "df['GHI2'] = df['GHI'].shift(2)\n",
    "df['GHI3'] = df['GHI'].shift(3)\n",
    "df['GHI4'] = df['GHI'].shift(4)\n",
    "df['GHI5'] = df['GHI'].shift(5)\n",
    "df['GHI6'] = df['GHI'].shift(6)"
   ]
  },
  {
   "cell_type": "code",
   "execution_count": 8,
   "id": "a86a555b",
   "metadata": {},
   "outputs": [],
   "source": [
    "lower_limit = 7\n",
    "upper_limit = 18\n",
    "data = df[(df['Hour'] >= lower_limit) & (df['Hour'] <= upper_limit)]"
   ]
  },
  {
   "cell_type": "code",
   "execution_count": 9,
   "id": "ffe1a268",
   "metadata": {},
   "outputs": [
    {
     "name": "stderr",
     "output_type": "stream",
     "text": [
      "C:\\Users\\suraj\\AppData\\Local\\Temp\\ipykernel_24756\\210008168.py:5: SettingWithCopyWarning: \n",
      "A value is trying to be set on a copy of a slice from a DataFrame.\n",
      "Try using .loc[row_indexer,col_indexer] = value instead\n",
      "\n",
      "See the caveats in the documentation: https://pandas.pydata.org/pandas-docs/stable/user_guide/indexing.html#returning-a-view-versus-a-copy\n",
      "  data[columns_to_normalize] = scaler.fit_transform(data[columns_to_normalize])\n"
     ]
    },
    {
     "data": {
      "text/html": [
       "<div>\n",
       "<style scoped>\n",
       "    .dataframe tbody tr th:only-of-type {\n",
       "        vertical-align: middle;\n",
       "    }\n",
       "\n",
       "    .dataframe tbody tr th {\n",
       "        vertical-align: top;\n",
       "    }\n",
       "\n",
       "    .dataframe thead th {\n",
       "        text-align: right;\n",
       "    }\n",
       "</style>\n",
       "<table border=\"1\" class=\"dataframe\">\n",
       "  <thead>\n",
       "    <tr style=\"text-align: right;\">\n",
       "      <th></th>\n",
       "      <th>Year</th>\n",
       "      <th>Month</th>\n",
       "      <th>Day</th>\n",
       "      <th>Hour</th>\n",
       "      <th>Minute</th>\n",
       "      <th>Temperature</th>\n",
       "      <th>GHI</th>\n",
       "      <th>Solar Zenith Angle</th>\n",
       "      <th>Relative Humidity</th>\n",
       "      <th>Cloud Type</th>\n",
       "      <th>Clearsky GHI</th>\n",
       "      <th>GHI1</th>\n",
       "      <th>GHI2</th>\n",
       "      <th>GHI3</th>\n",
       "      <th>GHI4</th>\n",
       "      <th>GHI5</th>\n",
       "      <th>GHI6</th>\n",
       "    </tr>\n",
       "  </thead>\n",
       "  <tbody>\n",
       "    <tr>\n",
       "      <th>7</th>\n",
       "      <td>2016</td>\n",
       "      <td>1</td>\n",
       "      <td>1</td>\n",
       "      <td>7</td>\n",
       "      <td>0</td>\n",
       "      <td>0.304833</td>\n",
       "      <td>0.017523</td>\n",
       "      <td>0.735729</td>\n",
       "      <td>0.303746</td>\n",
       "      <td>0.777778</td>\n",
       "      <td>0.024533</td>\n",
       "      <td>0.000000</td>\n",
       "      <td>0.000000</td>\n",
       "      <td>0.000000</td>\n",
       "      <td>0.000000</td>\n",
       "      <td>0.0</td>\n",
       "      <td>0.0</td>\n",
       "    </tr>\n",
       "    <tr>\n",
       "      <th>8</th>\n",
       "      <td>2016</td>\n",
       "      <td>1</td>\n",
       "      <td>1</td>\n",
       "      <td>8</td>\n",
       "      <td>0</td>\n",
       "      <td>0.408922</td>\n",
       "      <td>0.128505</td>\n",
       "      <td>0.576457</td>\n",
       "      <td>0.300865</td>\n",
       "      <td>0.777778</td>\n",
       "      <td>0.220794</td>\n",
       "      <td>0.017523</td>\n",
       "      <td>0.000000</td>\n",
       "      <td>0.000000</td>\n",
       "      <td>0.000000</td>\n",
       "      <td>0.0</td>\n",
       "      <td>0.0</td>\n",
       "    </tr>\n",
       "    <tr>\n",
       "      <th>9</th>\n",
       "      <td>2016</td>\n",
       "      <td>1</td>\n",
       "      <td>1</td>\n",
       "      <td>9</td>\n",
       "      <td>0</td>\n",
       "      <td>0.516729</td>\n",
       "      <td>0.271028</td>\n",
       "      <td>0.433600</td>\n",
       "      <td>0.174063</td>\n",
       "      <td>0.777778</td>\n",
       "      <td>0.436916</td>\n",
       "      <td>0.128505</td>\n",
       "      <td>0.017523</td>\n",
       "      <td>0.000000</td>\n",
       "      <td>0.000000</td>\n",
       "      <td>0.0</td>\n",
       "      <td>0.0</td>\n",
       "    </tr>\n",
       "    <tr>\n",
       "      <th>10</th>\n",
       "      <td>2016</td>\n",
       "      <td>1</td>\n",
       "      <td>1</td>\n",
       "      <td>10</td>\n",
       "      <td>0</td>\n",
       "      <td>0.620818</td>\n",
       "      <td>0.517523</td>\n",
       "      <td>0.319136</td>\n",
       "      <td>0.126916</td>\n",
       "      <td>0.333333</td>\n",
       "      <td>0.608645</td>\n",
       "      <td>0.271028</td>\n",
       "      <td>0.128505</td>\n",
       "      <td>0.017523</td>\n",
       "      <td>0.000000</td>\n",
       "      <td>0.0</td>\n",
       "      <td>0.0</td>\n",
       "    </tr>\n",
       "    <tr>\n",
       "      <th>11</th>\n",
       "      <td>2016</td>\n",
       "      <td>1</td>\n",
       "      <td>1</td>\n",
       "      <td>11</td>\n",
       "      <td>0</td>\n",
       "      <td>0.657993</td>\n",
       "      <td>0.487150</td>\n",
       "      <td>0.245637</td>\n",
       "      <td>0.105245</td>\n",
       "      <td>0.777778</td>\n",
       "      <td>0.665888</td>\n",
       "      <td>0.517523</td>\n",
       "      <td>0.271028</td>\n",
       "      <td>0.128505</td>\n",
       "      <td>0.017523</td>\n",
       "      <td>0.0</td>\n",
       "      <td>0.0</td>\n",
       "    </tr>\n",
       "  </tbody>\n",
       "</table>\n",
       "</div>"
      ],
      "text/plain": [
       "    Year  Month  Day  Hour  Minute  Temperature       GHI  Solar Zenith Angle  \\\n",
       "7   2016      1    1     7       0     0.304833  0.017523            0.735729   \n",
       "8   2016      1    1     8       0     0.408922  0.128505            0.576457   \n",
       "9   2016      1    1     9       0     0.516729  0.271028            0.433600   \n",
       "10  2016      1    1    10       0     0.620818  0.517523            0.319136   \n",
       "11  2016      1    1    11       0     0.657993  0.487150            0.245637   \n",
       "\n",
       "    Relative Humidity  Cloud Type  Clearsky GHI      GHI1      GHI2      GHI3  \\\n",
       "7            0.303746    0.777778      0.024533  0.000000  0.000000  0.000000   \n",
       "8            0.300865    0.777778      0.220794  0.017523  0.000000  0.000000   \n",
       "9            0.174063    0.777778      0.436916  0.128505  0.017523  0.000000   \n",
       "10           0.126916    0.333333      0.608645  0.271028  0.128505  0.017523   \n",
       "11           0.105245    0.777778      0.665888  0.517523  0.271028  0.128505   \n",
       "\n",
       "        GHI4  GHI5  GHI6  \n",
       "7   0.000000   0.0   0.0  \n",
       "8   0.000000   0.0   0.0  \n",
       "9   0.000000   0.0   0.0  \n",
       "10  0.000000   0.0   0.0  \n",
       "11  0.017523   0.0   0.0  "
      ]
     },
     "execution_count": 9,
     "metadata": {},
     "output_type": "execute_result"
    }
   ],
   "source": [
    "from sklearn.preprocessing import MinMaxScaler\n",
    "columns_to_normalize = ['Temperature','GHI','Solar Zenith Angle','Relative Humidity','Cloud Type','Clearsky GHI','GHI1','GHI2','GHI3','GHI4','GHI5','GHI6']\n",
    "scaler = MinMaxScaler()\n",
    "\n",
    "data[columns_to_normalize] = scaler.fit_transform(data[columns_to_normalize])\n",
    "data.head()"
   ]
  },
  {
   "cell_type": "code",
   "execution_count": 10,
   "id": "c278f854",
   "metadata": {},
   "outputs": [],
   "source": [
    "from sklearn.ensemble import RandomForestClassifier\n",
    "from sklearn.ensemble import RandomForestRegressor\n",
    "from sklearn.model_selection import train_test_split\n",
    "from sklearn.metrics import accuracy_score\n",
    "from sklearn.model_selection import cross_val_score\n",
    "from sklearn.metrics import mean_squared_error, mean_absolute_error, r2_score"
   ]
  },
  {
   "cell_type": "code",
   "execution_count": 11,
   "id": "e4494a6b",
   "metadata": {},
   "outputs": [],
   "source": [
    "X=data[['GHI1','GHI2','GHI3','GHI4','GHI5','GHI6']]\n",
    "y=data[['GHI']]"
   ]
  },
  {
   "cell_type": "code",
   "execution_count": 12,
   "id": "e4677a28",
   "metadata": {},
   "outputs": [
    {
     "name": "stderr",
     "output_type": "stream",
     "text": [
      "C:\\Users\\suraj\\AppData\\Local\\Temp\\ipykernel_24756\\966137838.py:3: DataConversionWarning: A column-vector y was passed when a 1d array was expected. Please change the shape of y to (n_samples,), for example using ravel().\n",
      "  rfr.fit(X_train, y_train)\n",
      "C:\\Users\\suraj\\anaconda3\\lib\\site-packages\\sklearn\\model_selection\\_validation.py:686: DataConversionWarning: A column-vector y was passed when a 1d array was expected. Please change the shape of y to (n_samples,), for example using ravel().\n",
      "  estimator.fit(X_train, y_train, **fit_params)\n",
      "C:\\Users\\suraj\\anaconda3\\lib\\site-packages\\sklearn\\model_selection\\_validation.py:686: DataConversionWarning: A column-vector y was passed when a 1d array was expected. Please change the shape of y to (n_samples,), for example using ravel().\n",
      "  estimator.fit(X_train, y_train, **fit_params)\n",
      "C:\\Users\\suraj\\anaconda3\\lib\\site-packages\\sklearn\\model_selection\\_validation.py:686: DataConversionWarning: A column-vector y was passed when a 1d array was expected. Please change the shape of y to (n_samples,), for example using ravel().\n",
      "  estimator.fit(X_train, y_train, **fit_params)\n",
      "C:\\Users\\suraj\\anaconda3\\lib\\site-packages\\sklearn\\model_selection\\_validation.py:686: DataConversionWarning: A column-vector y was passed when a 1d array was expected. Please change the shape of y to (n_samples,), for example using ravel().\n",
      "  estimator.fit(X_train, y_train, **fit_params)\n",
      "C:\\Users\\suraj\\anaconda3\\lib\\site-packages\\sklearn\\model_selection\\_validation.py:686: DataConversionWarning: A column-vector y was passed when a 1d array was expected. Please change the shape of y to (n_samples,), for example using ravel().\n",
      "  estimator.fit(X_train, y_train, **fit_params)\n",
      "C:\\Users\\suraj\\anaconda3\\lib\\site-packages\\sklearn\\model_selection\\_validation.py:686: DataConversionWarning: A column-vector y was passed when a 1d array was expected. Please change the shape of y to (n_samples,), for example using ravel().\n",
      "  estimator.fit(X_train, y_train, **fit_params)\n",
      "C:\\Users\\suraj\\anaconda3\\lib\\site-packages\\sklearn\\model_selection\\_validation.py:686: DataConversionWarning: A column-vector y was passed when a 1d array was expected. Please change the shape of y to (n_samples,), for example using ravel().\n",
      "  estimator.fit(X_train, y_train, **fit_params)\n",
      "C:\\Users\\suraj\\anaconda3\\lib\\site-packages\\sklearn\\model_selection\\_validation.py:686: DataConversionWarning: A column-vector y was passed when a 1d array was expected. Please change the shape of y to (n_samples,), for example using ravel().\n",
      "  estimator.fit(X_train, y_train, **fit_params)\n",
      "C:\\Users\\suraj\\anaconda3\\lib\\site-packages\\sklearn\\model_selection\\_validation.py:686: DataConversionWarning: A column-vector y was passed when a 1d array was expected. Please change the shape of y to (n_samples,), for example using ravel().\n",
      "  estimator.fit(X_train, y_train, **fit_params)\n",
      "C:\\Users\\suraj\\anaconda3\\lib\\site-packages\\sklearn\\model_selection\\_validation.py:686: DataConversionWarning: A column-vector y was passed when a 1d array was expected. Please change the shape of y to (n_samples,), for example using ravel().\n",
      "  estimator.fit(X_train, y_train, **fit_params)\n"
     ]
    },
    {
     "name": "stdout",
     "output_type": "stream",
     "text": [
      "RMSE:  71.27317782983422\n",
      "MAE: 37.96147627008087\n",
      "R-squared:  0.9387348412064479\n"
     ]
    }
   ],
   "source": [
    "X_train, X_test, y_train, y_test = train_test_split(X, y, test_size=0.2, random_state=42)\n",
    "rfr = RandomForestRegressor(n_estimators=100, random_state=42)\n",
    "rfr.fit(X_train, y_train)\n",
    "\n",
    "scores = cross_val_score(rfr, X_test, y_test, cv=10)\n",
    "y_pred = rfr.predict(X_test)\n",
    "\n",
    "rmse_rf = mean_squared_error(y_test, y_pred, squared=False)\n",
    "mae_rf = mean_absolute_error(y_test, y_pred)\n",
    "r2_rf = r2_score(y_test, y_pred) \n",
    "\n",
    "##GHI(maxvalue) = 1050\n",
    "##GHI(minvalue) = 0\n",
    "\n",
    "\n",
    "max_rmse = 1050\n",
    "min_rmse = 0\n",
    "original_rmse = rmse_rf * (max_rmse - min_rmse) + min_rmse\n",
    "print('RMSE: ', original_rmse) \n",
    "\n",
    "max_mae = 1050\n",
    "min_mae = 0\n",
    "original_mae = mae_rf * (max_mae - min_mae) + min_mae\n",
    "print('MAE:', original_mae) \n",
    "\n",
    "print(\"R-squared: \", r2_rf)"
   ]
  },
  {
   "cell_type": "code",
   "execution_count": 13,
   "id": "ee1055c3",
   "metadata": {},
   "outputs": [
    {
     "name": "stderr",
     "output_type": "stream",
     "text": [
      "C:\\Users\\suraj\\anaconda3\\lib\\site-packages\\sklearn\\utils\\validation.py:1143: DataConversionWarning: A column-vector y was passed when a 1d array was expected. Please change the shape of y to (n_samples, ), for example using ravel().\n",
      "  y = column_or_1d(y, warn=True)\n",
      "C:\\Users\\suraj\\anaconda3\\lib\\site-packages\\sklearn\\utils\\validation.py:1143: DataConversionWarning: A column-vector y was passed when a 1d array was expected. Please change the shape of y to (n_samples, ), for example using ravel().\n",
      "  y = column_or_1d(y, warn=True)\n",
      "C:\\Users\\suraj\\anaconda3\\lib\\site-packages\\sklearn\\utils\\validation.py:1143: DataConversionWarning: A column-vector y was passed when a 1d array was expected. Please change the shape of y to (n_samples, ), for example using ravel().\n",
      "  y = column_or_1d(y, warn=True)\n",
      "C:\\Users\\suraj\\anaconda3\\lib\\site-packages\\sklearn\\utils\\validation.py:1143: DataConversionWarning: A column-vector y was passed when a 1d array was expected. Please change the shape of y to (n_samples, ), for example using ravel().\n",
      "  y = column_or_1d(y, warn=True)\n",
      "C:\\Users\\suraj\\anaconda3\\lib\\site-packages\\sklearn\\utils\\validation.py:1143: DataConversionWarning: A column-vector y was passed when a 1d array was expected. Please change the shape of y to (n_samples, ), for example using ravel().\n",
      "  y = column_or_1d(y, warn=True)\n",
      "C:\\Users\\suraj\\anaconda3\\lib\\site-packages\\sklearn\\utils\\validation.py:1143: DataConversionWarning: A column-vector y was passed when a 1d array was expected. Please change the shape of y to (n_samples, ), for example using ravel().\n",
      "  y = column_or_1d(y, warn=True)\n",
      "C:\\Users\\suraj\\anaconda3\\lib\\site-packages\\sklearn\\utils\\validation.py:1143: DataConversionWarning: A column-vector y was passed when a 1d array was expected. Please change the shape of y to (n_samples, ), for example using ravel().\n",
      "  y = column_or_1d(y, warn=True)\n",
      "C:\\Users\\suraj\\anaconda3\\lib\\site-packages\\sklearn\\utils\\validation.py:1143: DataConversionWarning: A column-vector y was passed when a 1d array was expected. Please change the shape of y to (n_samples, ), for example using ravel().\n",
      "  y = column_or_1d(y, warn=True)\n",
      "C:\\Users\\suraj\\anaconda3\\lib\\site-packages\\sklearn\\utils\\validation.py:1143: DataConversionWarning: A column-vector y was passed when a 1d array was expected. Please change the shape of y to (n_samples, ), for example using ravel().\n",
      "  y = column_or_1d(y, warn=True)\n",
      "C:\\Users\\suraj\\anaconda3\\lib\\site-packages\\sklearn\\utils\\validation.py:1143: DataConversionWarning: A column-vector y was passed when a 1d array was expected. Please change the shape of y to (n_samples, ), for example using ravel().\n",
      "  y = column_or_1d(y, warn=True)\n"
     ]
    },
    {
     "name": "stdout",
     "output_type": "stream",
     "text": [
      "Support Vector Regression:\n",
      "RMSE:  91.77188920666225\n",
      "MAE: 67.02483557542774\n",
      "R-squared:  0.8984264428556423\n"
     ]
    },
    {
     "name": "stderr",
     "output_type": "stream",
     "text": [
      "C:\\Users\\suraj\\anaconda3\\lib\\site-packages\\sklearn\\utils\\validation.py:1143: DataConversionWarning: A column-vector y was passed when a 1d array was expected. Please change the shape of y to (n_samples, ), for example using ravel().\n",
      "  y = column_or_1d(y, warn=True)\n"
     ]
    }
   ],
   "source": [
    "from sklearn.svm import SVR\n",
    "svr = SVR(kernel='linear')\n",
    "svr.fit(X_train, y_train)\n",
    "\n",
    "scores = cross_val_score(svr, X_test, y_test, cv=10)\n",
    "y_pred = svr.predict(X_test)\n",
    "\n",
    "rmse_svr = mean_squared_error(y_test, y_pred, squared=False)\n",
    "mae_svr = mean_absolute_error(y_test, y_pred)\n",
    "r2_svr = r2_score(y_test, y_pred)\n",
    "\n",
    "##GHI(maxvalue) = 1050\n",
    "##GHI(minvalue) = 0\n",
    "\n",
    "print(\"Support Vector Regression:\")\n",
    "\n",
    "max_rmse = 1050\n",
    "min_rmse = 0\n",
    "original_rmse = rmse_svr * (max_rmse - min_rmse) + min_rmse\n",
    "print('RMSE: ', original_rmse) \n",
    "\n",
    "max_mae = 1050\n",
    "min_mae = 0\n",
    "original_mae = mae_svr * (max_mae - min_mae) + min_mae\n",
    "print('MAE:', original_mae) \n",
    "\n",
    "print(\"R-squared: \", r2_svr)"
   ]
  },
  {
   "cell_type": "code",
   "execution_count": 14,
   "id": "4d19dae5",
   "metadata": {},
   "outputs": [
    {
     "name": "stdout",
     "output_type": "stream",
     "text": [
      "K-Nearest Neighbors Regression:\n",
      "RMSE:  70.31326732386695\n",
      "MAE: 39.334339304257526\n",
      "R-squared:  0.9403739724953544\n"
     ]
    }
   ],
   "source": [
    "from sklearn.neighbors import KNeighborsRegressor\n",
    "knn = KNeighborsRegressor(n_neighbors=10)\n",
    "knn.fit(X_train, y_train)\n",
    "y_pred_knn = knn.predict(X_test)\n",
    "rmse_knn = mean_squared_error(y_test, y_pred_knn, squared=False)\n",
    "mae_knn = mean_absolute_error(y_test, y_pred_knn)\n",
    "r2_knn = r2_score(y_test, y_pred_knn)\n",
    "\n",
    "##GHI(maxvalue) = 1050\n",
    "##GHI(minvalue) = 0\n",
    "\n",
    "print('K-Nearest Neighbors Regression:')\n",
    "max_rmse = 1050\n",
    "min_rmse = 0\n",
    "original_rmse = rmse_knn * (max_rmse - min_rmse) + min_rmse\n",
    "print('RMSE: ', original_rmse) \n",
    "\n",
    "max_mae = 1050\n",
    "min_mae = 0\n",
    "original_mae = mae_knn * (max_mae - min_mae) + min_mae\n",
    "print('MAE:', original_mae) \n",
    "\n",
    "print(\"R-squared: \", r2_knn)"
   ]
  },
  {
   "cell_type": "code",
   "execution_count": 16,
   "id": "60b41de5",
   "metadata": {},
   "outputs": [
    {
     "name": "stderr",
     "output_type": "stream",
     "text": [
      "C:\\Users\\suraj\\anaconda3\\lib\\site-packages\\sklearn\\neural_network\\_multilayer_perceptron.py:1617: DataConversionWarning: A column-vector y was passed when a 1d array was expected. Please change the shape of y to (n_samples, ), for example using ravel().\n",
      "  y = column_or_1d(y, warn=True)\n"
     ]
    },
    {
     "name": "stdout",
     "output_type": "stream",
     "text": [
      "RMSE: 72.03706659371119\n",
      "MAE: 42.830055188209464\n",
      "R-squared: 0.9374145532056086\n"
     ]
    }
   ],
   "source": [
    "from sklearn.neural_network import MLPRegressor\n",
    "\n",
    "X_train_scaled = scaler.fit_transform(X_train)\n",
    "X_test_scaled = scaler.transform(X_test)\n",
    "\n",
    "mlp = MLPRegressor(hidden_layer_sizes=(50, 50, 50, 50, 50), activation='relu', solver='adam', max_iter=100, random_state=42)\n",
    "mlp.fit(X_train_scaled, y_train)\n",
    "y_pred = mlp.predict(X_test_scaled)\n",
    "\n",
    "rmse_ann = mean_squared_error(y_test, y_pred, squared=False)\n",
    "mae_ann = mean_absolute_error(y_test, y_pred)\n",
    "r2_ann = r2_score(y_test, y_pred)\n",
    "\n",
    "max_value = 1050\n",
    "min_value = 0\n",
    "original_rmse = rmse_ann * (max_value - min_value) + min_value\n",
    "original_mae = mae_ann * (max_value - min_value) + min_value\n",
    "\n",
    "print('RMSE:', original_rmse)\n",
    "print('MAE:', original_mae)\n",
    "print('R-squared:', r2_ann)\n"
   ]
  },
  {
   "cell_type": "code",
   "execution_count": null,
   "id": "d426834b",
   "metadata": {},
   "outputs": [],
   "source": []
  }
 ],
 "metadata": {
  "kernelspec": {
   "display_name": "Python 3 (ipykernel)",
   "language": "python",
   "name": "python3"
  },
  "language_info": {
   "codemirror_mode": {
    "name": "ipython",
    "version": 3
   },
   "file_extension": ".py",
   "mimetype": "text/x-python",
   "name": "python",
   "nbconvert_exporter": "python",
   "pygments_lexer": "ipython3",
   "version": "3.10.9"
  }
 },
 "nbformat": 4,
 "nbformat_minor": 5
}
