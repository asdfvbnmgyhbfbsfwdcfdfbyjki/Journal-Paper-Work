{
 "cells": [
  {
   "cell_type": "code",
   "execution_count": 1,
   "id": "ba4127f6",
   "metadata": {},
   "outputs": [],
   "source": [
    "import pandas as pd\n",
    "import numpy as np\n",
    "import seaborn as sns\n",
    "import matplotlib.pyplot as plt\n",
    "%matplotlib inline\n",
    "from datetime import datetime "
   ]
  },
  {
   "cell_type": "code",
   "execution_count": 2,
   "id": "ac59018a",
   "metadata": {},
   "outputs": [],
   "source": [
    "df1=pd.read_excel('D:/newdataset/oct.xlsx')\n",
    "df2=pd.read_excel('D:/newdataset/nov.xlsx')\n"
   ]
  },
  {
   "cell_type": "code",
   "execution_count": 4,
   "id": "d76466df",
   "metadata": {},
   "outputs": [],
   "source": [
    "df=pd.concat([df1, df2], axis=0)"
   ]
  },
  {
   "cell_type": "code",
   "execution_count": 5,
   "id": "2ef4ce3e",
   "metadata": {},
   "outputs": [],
   "source": [
    "df['GHI1'] = df['GHI'].shift(1)\n",
    "df['GHI2'] = df['GHI'].shift(2)\n",
    "df['GHI3'] = df['GHI'].shift(3)\n",
    "df['GHI4'] = df['GHI'].shift(4)\n",
    "df['GHI5'] = df['GHI'].shift(5)\n",
    "df['GHI6'] = df['GHI'].shift(6)"
   ]
  },
  {
   "cell_type": "code",
   "execution_count": 6,
   "id": "cd0d7bb5",
   "metadata": {},
   "outputs": [],
   "source": [
    "lower_limit = 7\n",
    "upper_limit = 18\n",
    "data = df[(df['Hour'] >= lower_limit) & (df['Hour'] <= upper_limit)]"
   ]
  },
  {
   "cell_type": "code",
   "execution_count": 7,
   "id": "a972a7a6",
   "metadata": {},
   "outputs": [
    {
     "name": "stderr",
     "output_type": "stream",
     "text": [
      "C:\\Users\\suraj\\AppData\\Local\\Temp\\ipykernel_7884\\210008168.py:5: SettingWithCopyWarning: \n",
      "A value is trying to be set on a copy of a slice from a DataFrame.\n",
      "Try using .loc[row_indexer,col_indexer] = value instead\n",
      "\n",
      "See the caveats in the documentation: https://pandas.pydata.org/pandas-docs/stable/user_guide/indexing.html#returning-a-view-versus-a-copy\n",
      "  data[columns_to_normalize] = scaler.fit_transform(data[columns_to_normalize])\n"
     ]
    },
    {
     "data": {
      "text/html": [
       "<div>\n",
       "<style scoped>\n",
       "    .dataframe tbody tr th:only-of-type {\n",
       "        vertical-align: middle;\n",
       "    }\n",
       "\n",
       "    .dataframe tbody tr th {\n",
       "        vertical-align: top;\n",
       "    }\n",
       "\n",
       "    .dataframe thead th {\n",
       "        text-align: right;\n",
       "    }\n",
       "</style>\n",
       "<table border=\"1\" class=\"dataframe\">\n",
       "  <thead>\n",
       "    <tr style=\"text-align: right;\">\n",
       "      <th></th>\n",
       "      <th>Year</th>\n",
       "      <th>Month</th>\n",
       "      <th>Day</th>\n",
       "      <th>Hour</th>\n",
       "      <th>Minute</th>\n",
       "      <th>Temperature</th>\n",
       "      <th>GHI</th>\n",
       "      <th>Solar Zenith Angle</th>\n",
       "      <th>Relative Humidity</th>\n",
       "      <th>Cloud Type</th>\n",
       "      <th>Clearsky GHI</th>\n",
       "      <th>GHI1</th>\n",
       "      <th>GHI2</th>\n",
       "      <th>GHI3</th>\n",
       "      <th>GHI4</th>\n",
       "      <th>GHI5</th>\n",
       "      <th>GHI6</th>\n",
       "    </tr>\n",
       "  </thead>\n",
       "  <tbody>\n",
       "    <tr>\n",
       "      <th>7</th>\n",
       "      <td>2016</td>\n",
       "      <td>10</td>\n",
       "      <td>1</td>\n",
       "      <td>7</td>\n",
       "      <td>0</td>\n",
       "      <td>0.673554</td>\n",
       "      <td>0.180539</td>\n",
       "      <td>0.565018</td>\n",
       "      <td>0.652760</td>\n",
       "      <td>0.000000</td>\n",
       "      <td>0.180539</td>\n",
       "      <td>0.010551</td>\n",
       "      <td>0.000000</td>\n",
       "      <td>0.000000</td>\n",
       "      <td>0.000000</td>\n",
       "      <td>0.000000</td>\n",
       "      <td>0.0</td>\n",
       "    </tr>\n",
       "    <tr>\n",
       "      <th>8</th>\n",
       "      <td>2016</td>\n",
       "      <td>10</td>\n",
       "      <td>1</td>\n",
       "      <td>8</td>\n",
       "      <td>0</td>\n",
       "      <td>0.785124</td>\n",
       "      <td>0.406800</td>\n",
       "      <td>0.393582</td>\n",
       "      <td>0.521175</td>\n",
       "      <td>0.000000</td>\n",
       "      <td>0.406800</td>\n",
       "      <td>0.180539</td>\n",
       "      <td>0.010551</td>\n",
       "      <td>0.000000</td>\n",
       "      <td>0.000000</td>\n",
       "      <td>0.000000</td>\n",
       "      <td>0.0</td>\n",
       "    </tr>\n",
       "    <tr>\n",
       "      <th>9</th>\n",
       "      <td>2016</td>\n",
       "      <td>10</td>\n",
       "      <td>1</td>\n",
       "      <td>9</td>\n",
       "      <td>0</td>\n",
       "      <td>0.859504</td>\n",
       "      <td>0.610785</td>\n",
       "      <td>0.234926</td>\n",
       "      <td>0.465969</td>\n",
       "      <td>0.111111</td>\n",
       "      <td>0.610785</td>\n",
       "      <td>0.406800</td>\n",
       "      <td>0.180539</td>\n",
       "      <td>0.010551</td>\n",
       "      <td>0.000000</td>\n",
       "      <td>0.000000</td>\n",
       "      <td>0.0</td>\n",
       "    </tr>\n",
       "    <tr>\n",
       "      <th>10</th>\n",
       "      <td>2016</td>\n",
       "      <td>10</td>\n",
       "      <td>1</td>\n",
       "      <td>10</td>\n",
       "      <td>0</td>\n",
       "      <td>0.896694</td>\n",
       "      <td>0.764361</td>\n",
       "      <td>0.101139</td>\n",
       "      <td>0.452609</td>\n",
       "      <td>0.111111</td>\n",
       "      <td>0.764361</td>\n",
       "      <td>0.610785</td>\n",
       "      <td>0.406800</td>\n",
       "      <td>0.180539</td>\n",
       "      <td>0.010551</td>\n",
       "      <td>0.000000</td>\n",
       "      <td>0.0</td>\n",
       "    </tr>\n",
       "    <tr>\n",
       "      <th>11</th>\n",
       "      <td>2016</td>\n",
       "      <td>10</td>\n",
       "      <td>1</td>\n",
       "      <td>11</td>\n",
       "      <td>0</td>\n",
       "      <td>0.921488</td>\n",
       "      <td>0.833529</td>\n",
       "      <td>0.015004</td>\n",
       "      <td>0.442526</td>\n",
       "      <td>0.000000</td>\n",
       "      <td>0.833529</td>\n",
       "      <td>0.764361</td>\n",
       "      <td>0.610785</td>\n",
       "      <td>0.406800</td>\n",
       "      <td>0.180539</td>\n",
       "      <td>0.010551</td>\n",
       "      <td>0.0</td>\n",
       "    </tr>\n",
       "  </tbody>\n",
       "</table>\n",
       "</div>"
      ],
      "text/plain": [
       "    Year  Month  Day  Hour  Minute  Temperature       GHI  Solar Zenith Angle  \\\n",
       "7   2016     10    1     7       0     0.673554  0.180539            0.565018   \n",
       "8   2016     10    1     8       0     0.785124  0.406800            0.393582   \n",
       "9   2016     10    1     9       0     0.859504  0.610785            0.234926   \n",
       "10  2016     10    1    10       0     0.896694  0.764361            0.101139   \n",
       "11  2016     10    1    11       0     0.921488  0.833529            0.015004   \n",
       "\n",
       "    Relative Humidity  Cloud Type  Clearsky GHI      GHI1      GHI2      GHI3  \\\n",
       "7            0.652760    0.000000      0.180539  0.010551  0.000000  0.000000   \n",
       "8            0.521175    0.000000      0.406800  0.180539  0.010551  0.000000   \n",
       "9            0.465969    0.111111      0.610785  0.406800  0.180539  0.010551   \n",
       "10           0.452609    0.111111      0.764361  0.610785  0.406800  0.180539   \n",
       "11           0.442526    0.000000      0.833529  0.764361  0.610785  0.406800   \n",
       "\n",
       "        GHI4      GHI5  GHI6  \n",
       "7   0.000000  0.000000   0.0  \n",
       "8   0.000000  0.000000   0.0  \n",
       "9   0.000000  0.000000   0.0  \n",
       "10  0.010551  0.000000   0.0  \n",
       "11  0.180539  0.010551   0.0  "
      ]
     },
     "execution_count": 7,
     "metadata": {},
     "output_type": "execute_result"
    }
   ],
   "source": [
    "from sklearn.preprocessing import MinMaxScaler\n",
    "columns_to_normalize = ['Temperature','GHI','Solar Zenith Angle','Relative Humidity','Cloud Type','Clearsky GHI','GHI1','GHI2','GHI3','GHI4','GHI5','GHI6']\n",
    "scaler = MinMaxScaler()\n",
    "\n",
    "data[columns_to_normalize] = scaler.fit_transform(data[columns_to_normalize])\n",
    "data.head()"
   ]
  },
  {
   "cell_type": "code",
   "execution_count": 8,
   "id": "4150d375",
   "metadata": {},
   "outputs": [],
   "source": [
    "from sklearn.ensemble import RandomForestClassifier\n",
    "from sklearn.ensemble import RandomForestRegressor\n",
    "from sklearn.model_selection import train_test_split\n",
    "from sklearn.metrics import accuracy_score\n",
    "from sklearn.model_selection import cross_val_score\n",
    "from sklearn.metrics import mean_squared_error, mean_absolute_error, r2_score"
   ]
  },
  {
   "cell_type": "code",
   "execution_count": 9,
   "id": "592dab97",
   "metadata": {},
   "outputs": [],
   "source": [
    "X=data[['GHI1','GHI2','GHI3','GHI4','GHI5','GHI6']]\n",
    "y=data[['GHI']]"
   ]
  },
  {
   "cell_type": "code",
   "execution_count": 10,
   "id": "aec8caa6",
   "metadata": {},
   "outputs": [
    {
     "name": "stderr",
     "output_type": "stream",
     "text": [
      "C:\\Users\\suraj\\AppData\\Local\\Temp\\ipykernel_7884\\966137838.py:3: DataConversionWarning: A column-vector y was passed when a 1d array was expected. Please change the shape of y to (n_samples,), for example using ravel().\n",
      "  rfr.fit(X_train, y_train)\n",
      "C:\\Users\\suraj\\anaconda3\\lib\\site-packages\\sklearn\\model_selection\\_validation.py:686: DataConversionWarning: A column-vector y was passed when a 1d array was expected. Please change the shape of y to (n_samples,), for example using ravel().\n",
      "  estimator.fit(X_train, y_train, **fit_params)\n",
      "C:\\Users\\suraj\\anaconda3\\lib\\site-packages\\sklearn\\model_selection\\_validation.py:686: DataConversionWarning: A column-vector y was passed when a 1d array was expected. Please change the shape of y to (n_samples,), for example using ravel().\n",
      "  estimator.fit(X_train, y_train, **fit_params)\n",
      "C:\\Users\\suraj\\anaconda3\\lib\\site-packages\\sklearn\\model_selection\\_validation.py:686: DataConversionWarning: A column-vector y was passed when a 1d array was expected. Please change the shape of y to (n_samples,), for example using ravel().\n",
      "  estimator.fit(X_train, y_train, **fit_params)\n",
      "C:\\Users\\suraj\\anaconda3\\lib\\site-packages\\sklearn\\model_selection\\_validation.py:686: DataConversionWarning: A column-vector y was passed when a 1d array was expected. Please change the shape of y to (n_samples,), for example using ravel().\n",
      "  estimator.fit(X_train, y_train, **fit_params)\n",
      "C:\\Users\\suraj\\anaconda3\\lib\\site-packages\\sklearn\\model_selection\\_validation.py:686: DataConversionWarning: A column-vector y was passed when a 1d array was expected. Please change the shape of y to (n_samples,), for example using ravel().\n",
      "  estimator.fit(X_train, y_train, **fit_params)\n",
      "C:\\Users\\suraj\\anaconda3\\lib\\site-packages\\sklearn\\model_selection\\_validation.py:686: DataConversionWarning: A column-vector y was passed when a 1d array was expected. Please change the shape of y to (n_samples,), for example using ravel().\n",
      "  estimator.fit(X_train, y_train, **fit_params)\n",
      "C:\\Users\\suraj\\anaconda3\\lib\\site-packages\\sklearn\\model_selection\\_validation.py:686: DataConversionWarning: A column-vector y was passed when a 1d array was expected. Please change the shape of y to (n_samples,), for example using ravel().\n",
      "  estimator.fit(X_train, y_train, **fit_params)\n",
      "C:\\Users\\suraj\\anaconda3\\lib\\site-packages\\sklearn\\model_selection\\_validation.py:686: DataConversionWarning: A column-vector y was passed when a 1d array was expected. Please change the shape of y to (n_samples,), for example using ravel().\n",
      "  estimator.fit(X_train, y_train, **fit_params)\n",
      "C:\\Users\\suraj\\anaconda3\\lib\\site-packages\\sklearn\\model_selection\\_validation.py:686: DataConversionWarning: A column-vector y was passed when a 1d array was expected. Please change the shape of y to (n_samples,), for example using ravel().\n",
      "  estimator.fit(X_train, y_train, **fit_params)\n",
      "C:\\Users\\suraj\\anaconda3\\lib\\site-packages\\sklearn\\model_selection\\_validation.py:686: DataConversionWarning: A column-vector y was passed when a 1d array was expected. Please change the shape of y to (n_samples,), for example using ravel().\n",
      "  estimator.fit(X_train, y_train, **fit_params)\n"
     ]
    },
    {
     "name": "stdout",
     "output_type": "stream",
     "text": [
      "RMSE:  49.09852913876432\n",
      "MAE: 18.51376344378927\n",
      "R-squared:  0.9756176333436604\n"
     ]
    }
   ],
   "source": [
    "X_train, X_test, y_train, y_test = train_test_split(X, y, test_size=0.2, random_state=42)\n",
    "rfr = RandomForestRegressor(n_estimators=100, random_state=42)\n",
    "rfr.fit(X_train, y_train)\n",
    "\n",
    "scores = cross_val_score(rfr, X_test, y_test, cv=10)\n",
    "y_pred = rfr.predict(X_test)\n",
    "\n",
    "rmse_rf = mean_squared_error(y_test, y_pred, squared=False)\n",
    "mae_rf = mean_absolute_error(y_test, y_pred)\n",
    "r2_rf = r2_score(y_test, y_pred) \n",
    "\n",
    "##GHI(maxvalue) = 1050\n",
    "##GHI(minvalue) = 0\n",
    "\n",
    "\n",
    "max_rmse = 1050\n",
    "min_rmse = 0\n",
    "original_rmse = rmse_rf * (max_rmse - min_rmse) + min_rmse\n",
    "print('RMSE: ', original_rmse) \n",
    "\n",
    "max_mae = 1050\n",
    "min_mae = 0\n",
    "original_mae = mae_rf * (max_mae - min_mae) + min_mae\n",
    "print('MAE:', original_mae) \n",
    "\n",
    "print(\"R-squared: \", r2_rf)"
   ]
  },
  {
   "cell_type": "code",
   "execution_count": 11,
   "id": "3ffc9de1",
   "metadata": {},
   "outputs": [
    {
     "name": "stdout",
     "output_type": "stream",
     "text": [
      "Support Vector Regression:\n",
      "RMSE:  76.10785689578876\n",
      "MAE: 53.79878308190839\n",
      "R-squared:  0.9414134560377885\n"
     ]
    },
    {
     "name": "stderr",
     "output_type": "stream",
     "text": [
      "C:\\Users\\suraj\\anaconda3\\lib\\site-packages\\sklearn\\utils\\validation.py:1143: DataConversionWarning: A column-vector y was passed when a 1d array was expected. Please change the shape of y to (n_samples, ), for example using ravel().\n",
      "  y = column_or_1d(y, warn=True)\n",
      "C:\\Users\\suraj\\anaconda3\\lib\\site-packages\\sklearn\\utils\\validation.py:1143: DataConversionWarning: A column-vector y was passed when a 1d array was expected. Please change the shape of y to (n_samples, ), for example using ravel().\n",
      "  y = column_or_1d(y, warn=True)\n",
      "C:\\Users\\suraj\\anaconda3\\lib\\site-packages\\sklearn\\utils\\validation.py:1143: DataConversionWarning: A column-vector y was passed when a 1d array was expected. Please change the shape of y to (n_samples, ), for example using ravel().\n",
      "  y = column_or_1d(y, warn=True)\n",
      "C:\\Users\\suraj\\anaconda3\\lib\\site-packages\\sklearn\\utils\\validation.py:1143: DataConversionWarning: A column-vector y was passed when a 1d array was expected. Please change the shape of y to (n_samples, ), for example using ravel().\n",
      "  y = column_or_1d(y, warn=True)\n",
      "C:\\Users\\suraj\\anaconda3\\lib\\site-packages\\sklearn\\utils\\validation.py:1143: DataConversionWarning: A column-vector y was passed when a 1d array was expected. Please change the shape of y to (n_samples, ), for example using ravel().\n",
      "  y = column_or_1d(y, warn=True)\n",
      "C:\\Users\\suraj\\anaconda3\\lib\\site-packages\\sklearn\\utils\\validation.py:1143: DataConversionWarning: A column-vector y was passed when a 1d array was expected. Please change the shape of y to (n_samples, ), for example using ravel().\n",
      "  y = column_or_1d(y, warn=True)\n",
      "C:\\Users\\suraj\\anaconda3\\lib\\site-packages\\sklearn\\utils\\validation.py:1143: DataConversionWarning: A column-vector y was passed when a 1d array was expected. Please change the shape of y to (n_samples, ), for example using ravel().\n",
      "  y = column_or_1d(y, warn=True)\n",
      "C:\\Users\\suraj\\anaconda3\\lib\\site-packages\\sklearn\\utils\\validation.py:1143: DataConversionWarning: A column-vector y was passed when a 1d array was expected. Please change the shape of y to (n_samples, ), for example using ravel().\n",
      "  y = column_or_1d(y, warn=True)\n",
      "C:\\Users\\suraj\\anaconda3\\lib\\site-packages\\sklearn\\utils\\validation.py:1143: DataConversionWarning: A column-vector y was passed when a 1d array was expected. Please change the shape of y to (n_samples, ), for example using ravel().\n",
      "  y = column_or_1d(y, warn=True)\n",
      "C:\\Users\\suraj\\anaconda3\\lib\\site-packages\\sklearn\\utils\\validation.py:1143: DataConversionWarning: A column-vector y was passed when a 1d array was expected. Please change the shape of y to (n_samples, ), for example using ravel().\n",
      "  y = column_or_1d(y, warn=True)\n",
      "C:\\Users\\suraj\\anaconda3\\lib\\site-packages\\sklearn\\utils\\validation.py:1143: DataConversionWarning: A column-vector y was passed when a 1d array was expected. Please change the shape of y to (n_samples, ), for example using ravel().\n",
      "  y = column_or_1d(y, warn=True)\n"
     ]
    }
   ],
   "source": [
    "from sklearn.svm import SVR\n",
    "svr = SVR(kernel='linear')\n",
    "svr.fit(X_train, y_train)\n",
    "\n",
    "scores = cross_val_score(svr, X_test, y_test, cv=10)\n",
    "y_pred = svr.predict(X_test)\n",
    "\n",
    "rmse_svr = mean_squared_error(y_test, y_pred, squared=False)\n",
    "mae_svr = mean_absolute_error(y_test, y_pred)\n",
    "r2_svr = r2_score(y_test, y_pred)\n",
    "\n",
    "##GHI(maxvalue) = 1050\n",
    "##GHI(minvalue) = 0\n",
    "\n",
    "print(\"Support Vector Regression:\")\n",
    "\n",
    "max_rmse = 1050\n",
    "min_rmse = 0\n",
    "original_rmse = rmse_svr * (max_rmse - min_rmse) + min_rmse\n",
    "print('RMSE: ', original_rmse) \n",
    "\n",
    "max_mae = 1050\n",
    "min_mae = 0\n",
    "original_mae = mae_svr * (max_mae - min_mae) + min_mae\n",
    "print('MAE:', original_mae) \n",
    "\n",
    "print(\"R-squared: \", r2_svr)"
   ]
  },
  {
   "cell_type": "code",
   "execution_count": 12,
   "id": "ae7da92c",
   "metadata": {},
   "outputs": [
    {
     "name": "stdout",
     "output_type": "stream",
     "text": [
      "K-Nearest Neighbors Regression:\n",
      "RMSE:  45.974292272561335\n",
      "MAE: 19.574284588626444\n",
      "R-squared:  0.9786219051968701\n"
     ]
    }
   ],
   "source": [
    "from sklearn.neighbors import KNeighborsRegressor\n",
    "knn = KNeighborsRegressor(n_neighbors=10)\n",
    "knn.fit(X_train, y_train)\n",
    "y_pred_knn = knn.predict(X_test)\n",
    "rmse_knn = mean_squared_error(y_test, y_pred_knn, squared=False)\n",
    "mae_knn = mean_absolute_error(y_test, y_pred_knn)\n",
    "r2_knn = r2_score(y_test, y_pred_knn)\n",
    "\n",
    "##GHI(maxvalue) = 1050\n",
    "##GHI(minvalue) = 0\n",
    "\n",
    "print('K-Nearest Neighbors Regression:')\n",
    "max_rmse = 1050\n",
    "min_rmse = 0\n",
    "original_rmse = rmse_knn * (max_rmse - min_rmse) + min_rmse\n",
    "print('RMSE: ', original_rmse) \n",
    "\n",
    "max_mae = 1050\n",
    "min_mae = 0\n",
    "original_mae = mae_knn * (max_mae - min_mae) + min_mae\n",
    "print('MAE:', original_mae) \n",
    "\n",
    "print(\"R-squared: \", r2_knn)"
   ]
  },
  {
   "cell_type": "code",
   "execution_count": 14,
   "id": "9fa0433c",
   "metadata": {},
   "outputs": [
    {
     "name": "stderr",
     "output_type": "stream",
     "text": [
      "C:\\Users\\suraj\\anaconda3\\lib\\site-packages\\sklearn\\neural_network\\_multilayer_perceptron.py:1617: DataConversionWarning: A column-vector y was passed when a 1d array was expected. Please change the shape of y to (n_samples, ), for example using ravel().\n",
      "  y = column_or_1d(y, warn=True)\n"
     ]
    },
    {
     "name": "stdout",
     "output_type": "stream",
     "text": [
      "RMSE: 50.17633007497108\n",
      "MAE: 25.623684059951287\n",
      "R-squared: 0.9745354104170209\n"
     ]
    }
   ],
   "source": [
    "from sklearn.neural_network import MLPRegressor\n",
    "\n",
    "X_train_scaled = scaler.fit_transform(X_train)\n",
    "X_test_scaled = scaler.transform(X_test)\n",
    "\n",
    "mlp = MLPRegressor(hidden_layer_sizes=(50, 50, 50, 50, 50), activation='relu', solver='adam', max_iter=100, random_state=42)\n",
    "mlp.fit(X_train_scaled, y_train)\n",
    "y_pred = mlp.predict(X_test_scaled)\n",
    "\n",
    "rmse_ann = mean_squared_error(y_test, y_pred, squared=False)\n",
    "mae_ann = mean_absolute_error(y_test, y_pred)\n",
    "r2_ann = r2_score(y_test, y_pred)\n",
    "\n",
    "max_value = 1050\n",
    "min_value = 0\n",
    "original_rmse = rmse_ann * (max_value - min_value) + min_value\n",
    "original_mae = mae_ann * (max_value - min_value) + min_value\n",
    "\n",
    "print('RMSE:', original_rmse)\n",
    "print('MAE:', original_mae)\n",
    "print('R-squared:', r2_ann)"
   ]
  },
  {
   "cell_type": "code",
   "execution_count": null,
   "id": "d1a3c55c",
   "metadata": {},
   "outputs": [],
   "source": []
  }
 ],
 "metadata": {
  "kernelspec": {
   "display_name": "Python 3 (ipykernel)",
   "language": "python",
   "name": "python3"
  },
  "language_info": {
   "codemirror_mode": {
    "name": "ipython",
    "version": 3
   },
   "file_extension": ".py",
   "mimetype": "text/x-python",
   "name": "python",
   "nbconvert_exporter": "python",
   "pygments_lexer": "ipython3",
   "version": "3.10.9"
  }
 },
 "nbformat": 4,
 "nbformat_minor": 5
}
