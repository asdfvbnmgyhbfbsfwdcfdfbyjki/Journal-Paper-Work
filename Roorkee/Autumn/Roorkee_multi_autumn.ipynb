{
 "cells": [
  {
   "cell_type": "code",
   "execution_count": 1,
   "id": "20b5c669",
   "metadata": {},
   "outputs": [],
   "source": [
    "import pandas as pd\n",
    "import numpy as np\n",
    "import seaborn as sns\n",
    "import matplotlib.pyplot as plt\n",
    "%matplotlib inline\n",
    "from datetime import datetime "
   ]
  },
  {
   "cell_type": "code",
   "execution_count": 2,
   "id": "2e343acd",
   "metadata": {},
   "outputs": [],
   "source": [
    "df1=pd.read_excel('D:/newdataset/nov.xlsx')\n",
    "df2=pd.read_excel('D:/newdataset/dec.xlsx')"
   ]
  },
  {
   "cell_type": "code",
   "execution_count": 3,
   "id": "96311e2b",
   "metadata": {},
   "outputs": [],
   "source": [
    "df=pd.concat([df1, df2], axis=0)"
   ]
  },
  {
   "cell_type": "code",
   "execution_count": 4,
   "id": "438f8310",
   "metadata": {},
   "outputs": [],
   "source": [
    "lower_limit = 7\n",
    "upper_limit = 18\n",
    "data = df[(df['Hour'] >= lower_limit) & (df['Hour'] <= upper_limit)]"
   ]
  },
  {
   "cell_type": "code",
   "execution_count": 5,
   "id": "7826eaa7",
   "metadata": {},
   "outputs": [
    {
     "name": "stderr",
     "output_type": "stream",
     "text": [
      "C:\\Users\\suraj\\AppData\\Local\\Temp\\ipykernel_22860\\3781344065.py:5: SettingWithCopyWarning: \n",
      "A value is trying to be set on a copy of a slice from a DataFrame.\n",
      "Try using .loc[row_indexer,col_indexer] = value instead\n",
      "\n",
      "See the caveats in the documentation: https://pandas.pydata.org/pandas-docs/stable/user_guide/indexing.html#returning-a-view-versus-a-copy\n",
      "  data[columns_to_normalize] = scaler.fit_transform(data[columns_to_normalize])\n"
     ]
    },
    {
     "data": {
      "text/html": [
       "<div>\n",
       "<style scoped>\n",
       "    .dataframe tbody tr th:only-of-type {\n",
       "        vertical-align: middle;\n",
       "    }\n",
       "\n",
       "    .dataframe tbody tr th {\n",
       "        vertical-align: top;\n",
       "    }\n",
       "\n",
       "    .dataframe thead th {\n",
       "        text-align: right;\n",
       "    }\n",
       "</style>\n",
       "<table border=\"1\" class=\"dataframe\">\n",
       "  <thead>\n",
       "    <tr style=\"text-align: right;\">\n",
       "      <th></th>\n",
       "      <th>Year</th>\n",
       "      <th>Month</th>\n",
       "      <th>Day</th>\n",
       "      <th>Hour</th>\n",
       "      <th>Minute</th>\n",
       "      <th>Temperature</th>\n",
       "      <th>GHI</th>\n",
       "      <th>Solar Zenith Angle</th>\n",
       "      <th>Relative Humidity</th>\n",
       "      <th>Cloud Type</th>\n",
       "      <th>Clearsky GHI</th>\n",
       "    </tr>\n",
       "  </thead>\n",
       "  <tbody>\n",
       "    <tr>\n",
       "      <th>7</th>\n",
       "      <td>2016</td>\n",
       "      <td>11</td>\n",
       "      <td>1</td>\n",
       "      <td>7</td>\n",
       "      <td>0</td>\n",
       "      <td>0.531136</td>\n",
       "      <td>0.140110</td>\n",
       "      <td>0.565397</td>\n",
       "      <td>0.495120</td>\n",
       "      <td>0.0</td>\n",
       "      <td>0.140110</td>\n",
       "    </tr>\n",
       "    <tr>\n",
       "      <th>8</th>\n",
       "      <td>2016</td>\n",
       "      <td>11</td>\n",
       "      <td>1</td>\n",
       "      <td>8</td>\n",
       "      <td>0</td>\n",
       "      <td>0.655678</td>\n",
       "      <td>0.392857</td>\n",
       "      <td>0.377866</td>\n",
       "      <td>0.315044</td>\n",
       "      <td>0.0</td>\n",
       "      <td>0.392857</td>\n",
       "    </tr>\n",
       "    <tr>\n",
       "      <th>9</th>\n",
       "      <td>2016</td>\n",
       "      <td>11</td>\n",
       "      <td>1</td>\n",
       "      <td>9</td>\n",
       "      <td>0</td>\n",
       "      <td>0.758242</td>\n",
       "      <td>0.626374</td>\n",
       "      <td>0.211611</td>\n",
       "      <td>0.217329</td>\n",
       "      <td>0.0</td>\n",
       "      <td>0.626374</td>\n",
       "    </tr>\n",
       "    <tr>\n",
       "      <th>10</th>\n",
       "      <td>2016</td>\n",
       "      <td>11</td>\n",
       "      <td>1</td>\n",
       "      <td>10</td>\n",
       "      <td>0</td>\n",
       "      <td>0.860806</td>\n",
       "      <td>0.802198</td>\n",
       "      <td>0.081148</td>\n",
       "      <td>0.155201</td>\n",
       "      <td>0.0</td>\n",
       "      <td>0.802198</td>\n",
       "    </tr>\n",
       "    <tr>\n",
       "      <th>11</th>\n",
       "      <td>2016</td>\n",
       "      <td>11</td>\n",
       "      <td>1</td>\n",
       "      <td>11</td>\n",
       "      <td>0</td>\n",
       "      <td>0.919414</td>\n",
       "      <td>0.921703</td>\n",
       "      <td>0.006103</td>\n",
       "      <td>0.132945</td>\n",
       "      <td>0.0</td>\n",
       "      <td>0.921703</td>\n",
       "    </tr>\n",
       "  </tbody>\n",
       "</table>\n",
       "</div>"
      ],
      "text/plain": [
       "    Year  Month  Day  Hour  Minute  Temperature       GHI  Solar Zenith Angle  \\\n",
       "7   2016     11    1     7       0     0.531136  0.140110            0.565397   \n",
       "8   2016     11    1     8       0     0.655678  0.392857            0.377866   \n",
       "9   2016     11    1     9       0     0.758242  0.626374            0.211611   \n",
       "10  2016     11    1    10       0     0.860806  0.802198            0.081148   \n",
       "11  2016     11    1    11       0     0.919414  0.921703            0.006103   \n",
       "\n",
       "    Relative Humidity  Cloud Type  Clearsky GHI  \n",
       "7            0.495120         0.0      0.140110  \n",
       "8            0.315044         0.0      0.392857  \n",
       "9            0.217329         0.0      0.626374  \n",
       "10           0.155201         0.0      0.802198  \n",
       "11           0.132945         0.0      0.921703  "
      ]
     },
     "execution_count": 5,
     "metadata": {},
     "output_type": "execute_result"
    }
   ],
   "source": [
    "from sklearn.preprocessing import MinMaxScaler\n",
    "columns_to_normalize = ['Temperature','GHI','Solar Zenith Angle','Relative Humidity','Cloud Type','Clearsky GHI']\n",
    "scaler = MinMaxScaler()\n",
    "\n",
    "data[columns_to_normalize] = scaler.fit_transform(data[columns_to_normalize])\n",
    "data.head()"
   ]
  },
  {
   "cell_type": "code",
   "execution_count": 6,
   "id": "d8a922d9",
   "metadata": {},
   "outputs": [],
   "source": [
    "from sklearn.ensemble import RandomForestClassifier\n",
    "from sklearn.ensemble import RandomForestRegressor\n",
    "from sklearn.model_selection import train_test_split\n",
    "from sklearn.metrics import accuracy_score\n",
    "from sklearn.model_selection import cross_val_score\n",
    "from sklearn.metrics import mean_squared_error, mean_absolute_error, r2_score"
   ]
  },
  {
   "cell_type": "code",
   "execution_count": 7,
   "id": "4f56d8b6",
   "metadata": {},
   "outputs": [],
   "source": [
    "X=data[['Hour','Temperature','Solar Zenith Angle', 'Relative Humidity','Cloud Type','Clearsky GHI']]\n",
    "y=data[['GHI']]"
   ]
  },
  {
   "cell_type": "code",
   "execution_count": 8,
   "id": "76c1f1ba",
   "metadata": {},
   "outputs": [
    {
     "name": "stderr",
     "output_type": "stream",
     "text": [
      "C:\\Users\\suraj\\AppData\\Local\\Temp\\ipykernel_22860\\3799485481.py:3: DataConversionWarning: A column-vector y was passed when a 1d array was expected. Please change the shape of y to (n_samples,), for example using ravel().\n",
      "  rfr.fit(X_train, y_train)\n",
      "C:\\Users\\suraj\\anaconda3\\lib\\site-packages\\sklearn\\model_selection\\_validation.py:686: DataConversionWarning: A column-vector y was passed when a 1d array was expected. Please change the shape of y to (n_samples,), for example using ravel().\n",
      "  estimator.fit(X_train, y_train, **fit_params)\n",
      "C:\\Users\\suraj\\anaconda3\\lib\\site-packages\\sklearn\\model_selection\\_validation.py:686: DataConversionWarning: A column-vector y was passed when a 1d array was expected. Please change the shape of y to (n_samples,), for example using ravel().\n",
      "  estimator.fit(X_train, y_train, **fit_params)\n",
      "C:\\Users\\suraj\\anaconda3\\lib\\site-packages\\sklearn\\model_selection\\_validation.py:686: DataConversionWarning: A column-vector y was passed when a 1d array was expected. Please change the shape of y to (n_samples,), for example using ravel().\n",
      "  estimator.fit(X_train, y_train, **fit_params)\n",
      "C:\\Users\\suraj\\anaconda3\\lib\\site-packages\\sklearn\\model_selection\\_validation.py:686: DataConversionWarning: A column-vector y was passed when a 1d array was expected. Please change the shape of y to (n_samples,), for example using ravel().\n",
      "  estimator.fit(X_train, y_train, **fit_params)\n",
      "C:\\Users\\suraj\\anaconda3\\lib\\site-packages\\sklearn\\model_selection\\_validation.py:686: DataConversionWarning: A column-vector y was passed when a 1d array was expected. Please change the shape of y to (n_samples,), for example using ravel().\n",
      "  estimator.fit(X_train, y_train, **fit_params)\n",
      "C:\\Users\\suraj\\anaconda3\\lib\\site-packages\\sklearn\\model_selection\\_validation.py:686: DataConversionWarning: A column-vector y was passed when a 1d array was expected. Please change the shape of y to (n_samples,), for example using ravel().\n",
      "  estimator.fit(X_train, y_train, **fit_params)\n",
      "C:\\Users\\suraj\\anaconda3\\lib\\site-packages\\sklearn\\model_selection\\_validation.py:686: DataConversionWarning: A column-vector y was passed when a 1d array was expected. Please change the shape of y to (n_samples,), for example using ravel().\n",
      "  estimator.fit(X_train, y_train, **fit_params)\n",
      "C:\\Users\\suraj\\anaconda3\\lib\\site-packages\\sklearn\\model_selection\\_validation.py:686: DataConversionWarning: A column-vector y was passed when a 1d array was expected. Please change the shape of y to (n_samples,), for example using ravel().\n",
      "  estimator.fit(X_train, y_train, **fit_params)\n",
      "C:\\Users\\suraj\\anaconda3\\lib\\site-packages\\sklearn\\model_selection\\_validation.py:686: DataConversionWarning: A column-vector y was passed when a 1d array was expected. Please change the shape of y to (n_samples,), for example using ravel().\n",
      "  estimator.fit(X_train, y_train, **fit_params)\n",
      "C:\\Users\\suraj\\anaconda3\\lib\\site-packages\\sklearn\\model_selection\\_validation.py:686: DataConversionWarning: A column-vector y was passed when a 1d array was expected. Please change the shape of y to (n_samples,), for example using ravel().\n",
      "  estimator.fit(X_train, y_train, **fit_params)\n"
     ]
    },
    {
     "name": "stdout",
     "output_type": "stream",
     "text": [
      "RMSE:  27.457080266271973\n",
      "MAE: 5.854370271122321\n",
      "R-squared:  0.9929135517397595\n"
     ]
    }
   ],
   "source": [
    "X_train, X_test, y_train, y_test = train_test_split(X, y, test_size=0.2, random_state=42)\n",
    "rfr = RandomForestRegressor(n_estimators=100, random_state=42)\n",
    "rfr.fit(X_train, y_train)\n",
    "\n",
    "scores = cross_val_score(rfr, X_test, y_test, cv=10)\n",
    "\n",
    "y_pred = rfr.predict(X_test)\n",
    "\n",
    "rmse_rf = mean_squared_error(y_test, y_pred, squared=False)\n",
    "mae_rf = mean_absolute_error(y_test, y_pred)\n",
    "r2_rf = r2_score(y_test, y_pred)\n",
    "\n",
    "##GHI(maxvalue) = 1050\n",
    "##GHI(minvalue) = 0\n",
    "\n",
    "max_rmse = 1050\n",
    "min_rmse = 0\n",
    "original_rmse = rmse_rf * (max_rmse - min_rmse) + min_rmse\n",
    "print('RMSE: ', original_rmse) \n",
    "\n",
    "max_mae = 1050\n",
    "min_mae = 0\n",
    "original_mae = mae_rf * (max_mae - min_mae) + min_mae\n",
    "print('MAE:', original_mae) \n",
    "\n",
    "print(\"R-squared: \", r2_rf)"
   ]
  },
  {
   "cell_type": "code",
   "execution_count": 9,
   "id": "b3a65b32",
   "metadata": {},
   "outputs": [
    {
     "name": "stderr",
     "output_type": "stream",
     "text": [
      "C:\\Users\\suraj\\anaconda3\\lib\\site-packages\\sklearn\\utils\\validation.py:1143: DataConversionWarning: A column-vector y was passed when a 1d array was expected. Please change the shape of y to (n_samples, ), for example using ravel().\n",
      "  y = column_or_1d(y, warn=True)\n",
      "C:\\Users\\suraj\\anaconda3\\lib\\site-packages\\sklearn\\utils\\validation.py:1143: DataConversionWarning: A column-vector y was passed when a 1d array was expected. Please change the shape of y to (n_samples, ), for example using ravel().\n",
      "  y = column_or_1d(y, warn=True)\n",
      "C:\\Users\\suraj\\anaconda3\\lib\\site-packages\\sklearn\\utils\\validation.py:1143: DataConversionWarning: A column-vector y was passed when a 1d array was expected. Please change the shape of y to (n_samples, ), for example using ravel().\n",
      "  y = column_or_1d(y, warn=True)\n",
      "C:\\Users\\suraj\\anaconda3\\lib\\site-packages\\sklearn\\utils\\validation.py:1143: DataConversionWarning: A column-vector y was passed when a 1d array was expected. Please change the shape of y to (n_samples, ), for example using ravel().\n",
      "  y = column_or_1d(y, warn=True)\n",
      "C:\\Users\\suraj\\anaconda3\\lib\\site-packages\\sklearn\\utils\\validation.py:1143: DataConversionWarning: A column-vector y was passed when a 1d array was expected. Please change the shape of y to (n_samples, ), for example using ravel().\n",
      "  y = column_or_1d(y, warn=True)\n",
      "C:\\Users\\suraj\\anaconda3\\lib\\site-packages\\sklearn\\utils\\validation.py:1143: DataConversionWarning: A column-vector y was passed when a 1d array was expected. Please change the shape of y to (n_samples, ), for example using ravel().\n",
      "  y = column_or_1d(y, warn=True)\n",
      "C:\\Users\\suraj\\anaconda3\\lib\\site-packages\\sklearn\\utils\\validation.py:1143: DataConversionWarning: A column-vector y was passed when a 1d array was expected. Please change the shape of y to (n_samples, ), for example using ravel().\n",
      "  y = column_or_1d(y, warn=True)\n"
     ]
    },
    {
     "name": "stdout",
     "output_type": "stream",
     "text": [
      "Support Vector Regression:\n",
      "RMSE:  75.37290485267872\n",
      "MAE: 57.379470993862746\n",
      "R-squared:  0.9465988732822157\n"
     ]
    },
    {
     "name": "stderr",
     "output_type": "stream",
     "text": [
      "C:\\Users\\suraj\\anaconda3\\lib\\site-packages\\sklearn\\utils\\validation.py:1143: DataConversionWarning: A column-vector y was passed when a 1d array was expected. Please change the shape of y to (n_samples, ), for example using ravel().\n",
      "  y = column_or_1d(y, warn=True)\n",
      "C:\\Users\\suraj\\anaconda3\\lib\\site-packages\\sklearn\\utils\\validation.py:1143: DataConversionWarning: A column-vector y was passed when a 1d array was expected. Please change the shape of y to (n_samples, ), for example using ravel().\n",
      "  y = column_or_1d(y, warn=True)\n",
      "C:\\Users\\suraj\\anaconda3\\lib\\site-packages\\sklearn\\utils\\validation.py:1143: DataConversionWarning: A column-vector y was passed when a 1d array was expected. Please change the shape of y to (n_samples, ), for example using ravel().\n",
      "  y = column_or_1d(y, warn=True)\n",
      "C:\\Users\\suraj\\anaconda3\\lib\\site-packages\\sklearn\\utils\\validation.py:1143: DataConversionWarning: A column-vector y was passed when a 1d array was expected. Please change the shape of y to (n_samples, ), for example using ravel().\n",
      "  y = column_or_1d(y, warn=True)\n"
     ]
    }
   ],
   "source": [
    "from sklearn.svm import SVR\n",
    "svr = SVR(kernel='linear')\n",
    "svr.fit(X_train, y_train)\n",
    "\n",
    "scores = cross_val_score(svr, X_test, y_test, cv=10)\n",
    "y_pred = svr.predict(X_test)\n",
    "\n",
    "rmse_svr = mean_squared_error(y_test, y_pred, squared=False)\n",
    "mae_svr = mean_absolute_error(y_test, y_pred)\n",
    "r2_svr = r2_score(y_test, y_pred)\n",
    "\n",
    "\n",
    "##GHI(maxvalue) = 1050\n",
    "##GHI(minvalue) = 0\n",
    "\n",
    "print(\"Support Vector Regression:\")\n",
    "\n",
    "max_rmse = 1050\n",
    "min_rmse = 0\n",
    "original_rmse = rmse_svr * (max_rmse - min_rmse) + min_rmse\n",
    "print('RMSE: ', original_rmse) \n",
    "\n",
    "max_mae = 1050\n",
    "min_mae = 0\n",
    "original_mae = mae_svr * (max_mae - min_mae) + min_mae\n",
    "print('MAE:', original_mae) \n",
    "\n",
    "print(\"R-squared: \", r2_svr)"
   ]
  },
  {
   "cell_type": "code",
   "execution_count": 10,
   "id": "bee557b2",
   "metadata": {},
   "outputs": [
    {
     "name": "stdout",
     "output_type": "stream",
     "text": [
      "RMSE:  40.664184850528\n",
      "MAE: 20.52372320302648\n",
      "R-squared:  0.9844566704225617\n"
     ]
    }
   ],
   "source": [
    "from sklearn.neighbors import KNeighborsRegressor\n",
    "knn = KNeighborsRegressor(n_neighbors=10)\n",
    "knn.fit(X_train, y_train)\n",
    "y_pred_knn = knn.predict(X_test)\n",
    "rmse_knn = mean_squared_error(y_test, y_pred_knn, squared=False)\n",
    "mae_knn = mean_absolute_error(y_test, y_pred_knn)\n",
    "r2_knn = r2_score(y_test, y_pred_knn)\n",
    "\n",
    "##GHI(maxvalue) = 1050\n",
    "##GHI(minvalue) = 0\n",
    "\n",
    "max_rmse = 1050\n",
    "min_rmse = 0\n",
    "original_rmse = rmse_knn * (max_rmse - min_rmse) + min_rmse\n",
    "print('RMSE: ', original_rmse) \n",
    "\n",
    "max_mae = 1050\n",
    "min_mae = 0\n",
    "original_mae = mae_knn * (max_mae - min_mae) + min_mae\n",
    "print('MAE:', original_mae) \n",
    "\n",
    "print(\"R-squared: \", r2_knn)"
   ]
  },
  {
   "cell_type": "code",
   "execution_count": 14,
   "id": "b914ca12",
   "metadata": {},
   "outputs": [
    {
     "name": "stderr",
     "output_type": "stream",
     "text": [
      "C:\\Users\\suraj\\anaconda3\\lib\\site-packages\\sklearn\\neural_network\\_multilayer_perceptron.py:1617: DataConversionWarning: A column-vector y was passed when a 1d array was expected. Please change the shape of y to (n_samples, ), for example using ravel().\n",
      "  y = column_or_1d(y, warn=True)\n"
     ]
    },
    {
     "name": "stdout",
     "output_type": "stream",
     "text": [
      "RMSE: 41.418024700121066\n",
      "MAE: 19.180239514547736\n",
      "R-squared: 0.9838750387551309\n"
     ]
    }
   ],
   "source": [
    "from sklearn.neural_network import MLPRegressor\n",
    "\n",
    "X_train_scaled = scaler.fit_transform(X_train)\n",
    "X_test_scaled = scaler.transform(X_test)\n",
    "\n",
    "mlp = MLPRegressor(hidden_layer_sizes=(50, 50, 50, 50, 50), activation='relu', solver='adam', max_iter=100, random_state=42)\n",
    "mlp.fit(X_train_scaled, y_train)\n",
    "y_pred = mlp.predict(X_test_scaled)\n",
    "\n",
    "rmse_ann = mean_squared_error(y_test, y_pred, squared=False)\n",
    "mae_ann = mean_absolute_error(y_test, y_pred)\n",
    "r2_ann = r2_score(y_test, y_pred)\n",
    "\n",
    "max_value = 1050\n",
    "min_value = 0\n",
    "original_rmse = rmse_ann * (max_value - min_value) + min_value\n",
    "original_mae = mae_ann * (max_value - min_value) + min_value\n",
    "\n",
    "print('RMSE:', original_rmse)\n",
    "print('MAE:', original_mae)\n",
    "print('R-squared:', r2_ann)"
   ]
  },
  {
   "cell_type": "code",
   "execution_count": null,
   "id": "b5959b84",
   "metadata": {},
   "outputs": [],
   "source": []
  }
 ],
 "metadata": {
  "kernelspec": {
   "display_name": "Python 3 (ipykernel)",
   "language": "python",
   "name": "python3"
  },
  "language_info": {
   "codemirror_mode": {
    "name": "ipython",
    "version": 3
   },
   "file_extension": ".py",
   "mimetype": "text/x-python",
   "name": "python",
   "nbconvert_exporter": "python",
   "pygments_lexer": "ipython3",
   "version": "3.10.9"
  }
 },
 "nbformat": 4,
 "nbformat_minor": 5
}
