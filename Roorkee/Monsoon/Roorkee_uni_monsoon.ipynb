{
 "cells": [
  {
   "cell_type": "code",
   "execution_count": 1,
   "id": "5099b8a0",
   "metadata": {},
   "outputs": [],
   "source": [
    "import pandas as pd\n",
    "import numpy as np\n",
    "import seaborn as sns\n",
    "import matplotlib.pyplot as plt\n",
    "%matplotlib inline\n",
    "from datetime import datetime "
   ]
  },
  {
   "cell_type": "code",
   "execution_count": 3,
   "id": "8f50b2f4",
   "metadata": {},
   "outputs": [],
   "source": [
    "df1=pd.read_excel('D:/newdataset/jul.xlsx')\n",
    "df2=pd.read_excel('D:/newdataset/aug.xlsx')\n",
    "df3=pd.read_excel('D:/newdataset/sep.xlsx')"
   ]
  },
  {
   "cell_type": "code",
   "execution_count": 4,
   "id": "1e2f0acb",
   "metadata": {},
   "outputs": [],
   "source": [
    "df=pd.concat([df1, df2, df3], axis=0)"
   ]
  },
  {
   "cell_type": "code",
   "execution_count": 5,
   "id": "6d12a02b",
   "metadata": {},
   "outputs": [],
   "source": [
    "df['GHI1'] = df['GHI'].shift(1)\n",
    "df['GHI2'] = df['GHI'].shift(2)\n",
    "df['GHI3'] = df['GHI'].shift(3)\n",
    "df['GHI4'] = df['GHI'].shift(4)\n",
    "df['GHI5'] = df['GHI'].shift(5)\n",
    "df['GHI6'] = df['GHI'].shift(6)"
   ]
  },
  {
   "cell_type": "code",
   "execution_count": 6,
   "id": "9d79aba2",
   "metadata": {},
   "outputs": [],
   "source": [
    "lower_limit = 7\n",
    "upper_limit = 18\n",
    "data = df[(df['Hour'] >= lower_limit) & (df['Hour'] <= upper_limit)]"
   ]
  },
  {
   "cell_type": "code",
   "execution_count": 7,
   "id": "b4b7541d",
   "metadata": {},
   "outputs": [
    {
     "name": "stderr",
     "output_type": "stream",
     "text": [
      "C:\\Users\\suraj\\AppData\\Local\\Temp\\ipykernel_20532\\210008168.py:5: SettingWithCopyWarning: \n",
      "A value is trying to be set on a copy of a slice from a DataFrame.\n",
      "Try using .loc[row_indexer,col_indexer] = value instead\n",
      "\n",
      "See the caveats in the documentation: https://pandas.pydata.org/pandas-docs/stable/user_guide/indexing.html#returning-a-view-versus-a-copy\n",
      "  data[columns_to_normalize] = scaler.fit_transform(data[columns_to_normalize])\n"
     ]
    },
    {
     "data": {
      "text/html": [
       "<div>\n",
       "<style scoped>\n",
       "    .dataframe tbody tr th:only-of-type {\n",
       "        vertical-align: middle;\n",
       "    }\n",
       "\n",
       "    .dataframe tbody tr th {\n",
       "        vertical-align: top;\n",
       "    }\n",
       "\n",
       "    .dataframe thead th {\n",
       "        text-align: right;\n",
       "    }\n",
       "</style>\n",
       "<table border=\"1\" class=\"dataframe\">\n",
       "  <thead>\n",
       "    <tr style=\"text-align: right;\">\n",
       "      <th></th>\n",
       "      <th>Year</th>\n",
       "      <th>Month</th>\n",
       "      <th>Day</th>\n",
       "      <th>Hour</th>\n",
       "      <th>Minute</th>\n",
       "      <th>Temperature</th>\n",
       "      <th>GHI</th>\n",
       "      <th>Solar Zenith Angle</th>\n",
       "      <th>Relative Humidity</th>\n",
       "      <th>Cloud Type</th>\n",
       "      <th>Clearsky GHI</th>\n",
       "      <th>GHI1</th>\n",
       "      <th>GHI2</th>\n",
       "      <th>GHI3</th>\n",
       "      <th>GHI4</th>\n",
       "      <th>GHI5</th>\n",
       "      <th>GHI6</th>\n",
       "    </tr>\n",
       "  </thead>\n",
       "  <tbody>\n",
       "    <tr>\n",
       "      <th>7</th>\n",
       "      <td>2016</td>\n",
       "      <td>7</td>\n",
       "      <td>1</td>\n",
       "      <td>7</td>\n",
       "      <td>0</td>\n",
       "      <td>0.507463</td>\n",
       "      <td>0.229576</td>\n",
       "      <td>0.646137</td>\n",
       "      <td>0.468383</td>\n",
       "      <td>1.000000</td>\n",
       "      <td>0.314227</td>\n",
       "      <td>0.086279</td>\n",
       "      <td>0.003102</td>\n",
       "      <td>0.000000</td>\n",
       "      <td>0.000000</td>\n",
       "      <td>0.000000</td>\n",
       "      <td>0.000000</td>\n",
       "    </tr>\n",
       "    <tr>\n",
       "      <th>8</th>\n",
       "      <td>2016</td>\n",
       "      <td>7</td>\n",
       "      <td>1</td>\n",
       "      <td>8</td>\n",
       "      <td>0</td>\n",
       "      <td>0.562189</td>\n",
       "      <td>0.389866</td>\n",
       "      <td>0.503024</td>\n",
       "      <td>0.430771</td>\n",
       "      <td>0.666667</td>\n",
       "      <td>0.513818</td>\n",
       "      <td>0.225572</td>\n",
       "      <td>0.091003</td>\n",
       "      <td>0.003102</td>\n",
       "      <td>0.000000</td>\n",
       "      <td>0.000000</td>\n",
       "      <td>0.000000</td>\n",
       "    </tr>\n",
       "    <tr>\n",
       "      <th>9</th>\n",
       "      <td>2016</td>\n",
       "      <td>7</td>\n",
       "      <td>1</td>\n",
       "      <td>9</td>\n",
       "      <td>0</td>\n",
       "      <td>0.626866</td>\n",
       "      <td>0.541882</td>\n",
       "      <td>0.357895</td>\n",
       "      <td>0.375742</td>\n",
       "      <td>0.777778</td>\n",
       "      <td>0.687820</td>\n",
       "      <td>0.386694</td>\n",
       "      <td>0.229576</td>\n",
       "      <td>0.091003</td>\n",
       "      <td>0.003102</td>\n",
       "      <td>0.000000</td>\n",
       "      <td>0.000000</td>\n",
       "    </tr>\n",
       "    <tr>\n",
       "      <th>10</th>\n",
       "      <td>2016</td>\n",
       "      <td>7</td>\n",
       "      <td>1</td>\n",
       "      <td>10</td>\n",
       "      <td>0</td>\n",
       "      <td>0.691542</td>\n",
       "      <td>0.660807</td>\n",
       "      <td>0.212766</td>\n",
       "      <td>0.321090</td>\n",
       "      <td>0.666667</td>\n",
       "      <td>0.823951</td>\n",
       "      <td>0.539501</td>\n",
       "      <td>0.389866</td>\n",
       "      <td>0.229576</td>\n",
       "      <td>0.091003</td>\n",
       "      <td>0.003102</td>\n",
       "      <td>0.000000</td>\n",
       "    </tr>\n",
       "    <tr>\n",
       "      <th>11</th>\n",
       "      <td>2016</td>\n",
       "      <td>7</td>\n",
       "      <td>1</td>\n",
       "      <td>11</td>\n",
       "      <td>0</td>\n",
       "      <td>0.746269</td>\n",
       "      <td>0.735264</td>\n",
       "      <td>0.073460</td>\n",
       "      <td>0.276032</td>\n",
       "      <td>0.666667</td>\n",
       "      <td>0.900716</td>\n",
       "      <td>0.659044</td>\n",
       "      <td>0.541882</td>\n",
       "      <td>0.389866</td>\n",
       "      <td>0.229576</td>\n",
       "      <td>0.091003</td>\n",
       "      <td>0.003102</td>\n",
       "    </tr>\n",
       "  </tbody>\n",
       "</table>\n",
       "</div>"
      ],
      "text/plain": [
       "    Year  Month  Day  Hour  Minute  Temperature       GHI  Solar Zenith Angle  \\\n",
       "7   2016      7    1     7       0     0.507463  0.229576            0.646137   \n",
       "8   2016      7    1     8       0     0.562189  0.389866            0.503024   \n",
       "9   2016      7    1     9       0     0.626866  0.541882            0.357895   \n",
       "10  2016      7    1    10       0     0.691542  0.660807            0.212766   \n",
       "11  2016      7    1    11       0     0.746269  0.735264            0.073460   \n",
       "\n",
       "    Relative Humidity  Cloud Type  Clearsky GHI      GHI1      GHI2      GHI3  \\\n",
       "7            0.468383    1.000000      0.314227  0.086279  0.003102  0.000000   \n",
       "8            0.430771    0.666667      0.513818  0.225572  0.091003  0.003102   \n",
       "9            0.375742    0.777778      0.687820  0.386694  0.229576  0.091003   \n",
       "10           0.321090    0.666667      0.823951  0.539501  0.389866  0.229576   \n",
       "11           0.276032    0.666667      0.900716  0.659044  0.541882  0.389866   \n",
       "\n",
       "        GHI4      GHI5      GHI6  \n",
       "7   0.000000  0.000000  0.000000  \n",
       "8   0.000000  0.000000  0.000000  \n",
       "9   0.003102  0.000000  0.000000  \n",
       "10  0.091003  0.003102  0.000000  \n",
       "11  0.229576  0.091003  0.003102  "
      ]
     },
     "execution_count": 7,
     "metadata": {},
     "output_type": "execute_result"
    }
   ],
   "source": [
    "from sklearn.preprocessing import MinMaxScaler\n",
    "columns_to_normalize = ['Temperature','GHI','Solar Zenith Angle','Relative Humidity','Cloud Type','Clearsky GHI','GHI1','GHI2','GHI3','GHI4','GHI5','GHI6']\n",
    "scaler = MinMaxScaler()\n",
    "\n",
    "data[columns_to_normalize] = scaler.fit_transform(data[columns_to_normalize])\n",
    "data.head()"
   ]
  },
  {
   "cell_type": "code",
   "execution_count": 8,
   "id": "bb488efd",
   "metadata": {},
   "outputs": [],
   "source": [
    "from sklearn.ensemble import RandomForestClassifier\n",
    "from sklearn.ensemble import RandomForestRegressor\n",
    "from sklearn.model_selection import train_test_split\n",
    "from sklearn.metrics import accuracy_score\n",
    "from sklearn.model_selection import cross_val_score\n",
    "from sklearn.metrics import mean_squared_error, mean_absolute_error, r2_score"
   ]
  },
  {
   "cell_type": "code",
   "execution_count": 9,
   "id": "303caafd",
   "metadata": {},
   "outputs": [],
   "source": [
    "X=data[['GHI1','GHI2','GHI3','GHI4','GHI5','GHI6']]\n",
    "y=data[['GHI']]"
   ]
  },
  {
   "cell_type": "code",
   "execution_count": 10,
   "id": "bf104072",
   "metadata": {},
   "outputs": [
    {
     "name": "stderr",
     "output_type": "stream",
     "text": [
      "C:\\Users\\suraj\\AppData\\Local\\Temp\\ipykernel_20532\\966137838.py:3: DataConversionWarning: A column-vector y was passed when a 1d array was expected. Please change the shape of y to (n_samples,), for example using ravel().\n",
      "  rfr.fit(X_train, y_train)\n",
      "C:\\Users\\suraj\\anaconda3\\lib\\site-packages\\sklearn\\model_selection\\_validation.py:686: DataConversionWarning: A column-vector y was passed when a 1d array was expected. Please change the shape of y to (n_samples,), for example using ravel().\n",
      "  estimator.fit(X_train, y_train, **fit_params)\n",
      "C:\\Users\\suraj\\anaconda3\\lib\\site-packages\\sklearn\\model_selection\\_validation.py:686: DataConversionWarning: A column-vector y was passed when a 1d array was expected. Please change the shape of y to (n_samples,), for example using ravel().\n",
      "  estimator.fit(X_train, y_train, **fit_params)\n",
      "C:\\Users\\suraj\\anaconda3\\lib\\site-packages\\sklearn\\model_selection\\_validation.py:686: DataConversionWarning: A column-vector y was passed when a 1d array was expected. Please change the shape of y to (n_samples,), for example using ravel().\n",
      "  estimator.fit(X_train, y_train, **fit_params)\n",
      "C:\\Users\\suraj\\anaconda3\\lib\\site-packages\\sklearn\\model_selection\\_validation.py:686: DataConversionWarning: A column-vector y was passed when a 1d array was expected. Please change the shape of y to (n_samples,), for example using ravel().\n",
      "  estimator.fit(X_train, y_train, **fit_params)\n",
      "C:\\Users\\suraj\\anaconda3\\lib\\site-packages\\sklearn\\model_selection\\_validation.py:686: DataConversionWarning: A column-vector y was passed when a 1d array was expected. Please change the shape of y to (n_samples,), for example using ravel().\n",
      "  estimator.fit(X_train, y_train, **fit_params)\n",
      "C:\\Users\\suraj\\anaconda3\\lib\\site-packages\\sklearn\\model_selection\\_validation.py:686: DataConversionWarning: A column-vector y was passed when a 1d array was expected. Please change the shape of y to (n_samples,), for example using ravel().\n",
      "  estimator.fit(X_train, y_train, **fit_params)\n",
      "C:\\Users\\suraj\\anaconda3\\lib\\site-packages\\sklearn\\model_selection\\_validation.py:686: DataConversionWarning: A column-vector y was passed when a 1d array was expected. Please change the shape of y to (n_samples,), for example using ravel().\n",
      "  estimator.fit(X_train, y_train, **fit_params)\n",
      "C:\\Users\\suraj\\anaconda3\\lib\\site-packages\\sklearn\\model_selection\\_validation.py:686: DataConversionWarning: A column-vector y was passed when a 1d array was expected. Please change the shape of y to (n_samples,), for example using ravel().\n",
      "  estimator.fit(X_train, y_train, **fit_params)\n",
      "C:\\Users\\suraj\\anaconda3\\lib\\site-packages\\sklearn\\model_selection\\_validation.py:686: DataConversionWarning: A column-vector y was passed when a 1d array was expected. Please change the shape of y to (n_samples,), for example using ravel().\n",
      "  estimator.fit(X_train, y_train, **fit_params)\n",
      "C:\\Users\\suraj\\anaconda3\\lib\\site-packages\\sklearn\\model_selection\\_validation.py:686: DataConversionWarning: A column-vector y was passed when a 1d array was expected. Please change the shape of y to (n_samples,), for example using ravel().\n",
      "  estimator.fit(X_train, y_train, **fit_params)\n"
     ]
    },
    {
     "name": "stdout",
     "output_type": "stream",
     "text": [
      "RMSE:  72.94051545866407\n",
      "MAE: 41.674201339207265\n",
      "R-squared:  0.9309024272834484\n"
     ]
    }
   ],
   "source": [
    "X_train, X_test, y_train, y_test = train_test_split(X, y, test_size=0.2, random_state=42)\n",
    "rfr = RandomForestRegressor(n_estimators=100, random_state=42)\n",
    "rfr.fit(X_train, y_train)\n",
    "\n",
    "scores = cross_val_score(rfr, X_test, y_test, cv=10)\n",
    "y_pred = rfr.predict(X_test)\n",
    "\n",
    "rmse_rf = mean_squared_error(y_test, y_pred, squared=False)\n",
    "mae_rf = mean_absolute_error(y_test, y_pred)\n",
    "r2_rf = r2_score(y_test, y_pred) \n",
    "\n",
    "##GHI(maxvalue) = 1050\n",
    "##GHI(minvalue) = 0\n",
    "\n",
    "\n",
    "max_rmse = 1050\n",
    "min_rmse = 0\n",
    "original_rmse = rmse_rf * (max_rmse - min_rmse) + min_rmse\n",
    "print('RMSE: ', original_rmse) \n",
    "\n",
    "max_mae = 1050\n",
    "min_mae = 0\n",
    "original_mae = mae_rf * (max_mae - min_mae) + min_mae\n",
    "print('MAE:', original_mae) \n",
    "\n",
    "print(\"R-squared: \", r2_rf)"
   ]
  },
  {
   "cell_type": "code",
   "execution_count": 11,
   "id": "527f4f19",
   "metadata": {},
   "outputs": [
    {
     "name": "stderr",
     "output_type": "stream",
     "text": [
      "C:\\Users\\suraj\\anaconda3\\lib\\site-packages\\sklearn\\utils\\validation.py:1143: DataConversionWarning: A column-vector y was passed when a 1d array was expected. Please change the shape of y to (n_samples, ), for example using ravel().\n",
      "  y = column_or_1d(y, warn=True)\n",
      "C:\\Users\\suraj\\anaconda3\\lib\\site-packages\\sklearn\\utils\\validation.py:1143: DataConversionWarning: A column-vector y was passed when a 1d array was expected. Please change the shape of y to (n_samples, ), for example using ravel().\n",
      "  y = column_or_1d(y, warn=True)\n",
      "C:\\Users\\suraj\\anaconda3\\lib\\site-packages\\sklearn\\utils\\validation.py:1143: DataConversionWarning: A column-vector y was passed when a 1d array was expected. Please change the shape of y to (n_samples, ), for example using ravel().\n",
      "  y = column_or_1d(y, warn=True)\n",
      "C:\\Users\\suraj\\anaconda3\\lib\\site-packages\\sklearn\\utils\\validation.py:1143: DataConversionWarning: A column-vector y was passed when a 1d array was expected. Please change the shape of y to (n_samples, ), for example using ravel().\n",
      "  y = column_or_1d(y, warn=True)\n",
      "C:\\Users\\suraj\\anaconda3\\lib\\site-packages\\sklearn\\utils\\validation.py:1143: DataConversionWarning: A column-vector y was passed when a 1d array was expected. Please change the shape of y to (n_samples, ), for example using ravel().\n",
      "  y = column_or_1d(y, warn=True)\n"
     ]
    },
    {
     "name": "stdout",
     "output_type": "stream",
     "text": [
      "Support Vector Regression:\n",
      "RMSE:  75.66334937507047\n",
      "MAE: 50.251925431730655\n",
      "R-squared:  0.9256473828604406\n"
     ]
    },
    {
     "name": "stderr",
     "output_type": "stream",
     "text": [
      "C:\\Users\\suraj\\anaconda3\\lib\\site-packages\\sklearn\\utils\\validation.py:1143: DataConversionWarning: A column-vector y was passed when a 1d array was expected. Please change the shape of y to (n_samples, ), for example using ravel().\n",
      "  y = column_or_1d(y, warn=True)\n",
      "C:\\Users\\suraj\\anaconda3\\lib\\site-packages\\sklearn\\utils\\validation.py:1143: DataConversionWarning: A column-vector y was passed when a 1d array was expected. Please change the shape of y to (n_samples, ), for example using ravel().\n",
      "  y = column_or_1d(y, warn=True)\n",
      "C:\\Users\\suraj\\anaconda3\\lib\\site-packages\\sklearn\\utils\\validation.py:1143: DataConversionWarning: A column-vector y was passed when a 1d array was expected. Please change the shape of y to (n_samples, ), for example using ravel().\n",
      "  y = column_or_1d(y, warn=True)\n",
      "C:\\Users\\suraj\\anaconda3\\lib\\site-packages\\sklearn\\utils\\validation.py:1143: DataConversionWarning: A column-vector y was passed when a 1d array was expected. Please change the shape of y to (n_samples, ), for example using ravel().\n",
      "  y = column_or_1d(y, warn=True)\n",
      "C:\\Users\\suraj\\anaconda3\\lib\\site-packages\\sklearn\\utils\\validation.py:1143: DataConversionWarning: A column-vector y was passed when a 1d array was expected. Please change the shape of y to (n_samples, ), for example using ravel().\n",
      "  y = column_or_1d(y, warn=True)\n",
      "C:\\Users\\suraj\\anaconda3\\lib\\site-packages\\sklearn\\utils\\validation.py:1143: DataConversionWarning: A column-vector y was passed when a 1d array was expected. Please change the shape of y to (n_samples, ), for example using ravel().\n",
      "  y = column_or_1d(y, warn=True)\n"
     ]
    }
   ],
   "source": [
    "from sklearn.svm import SVR\n",
    "svr = SVR(kernel='linear')\n",
    "svr.fit(X_train, y_train)\n",
    "\n",
    "scores = cross_val_score(svr, X_test, y_test, cv=10)\n",
    "y_pred = svr.predict(X_test)\n",
    "\n",
    "rmse_svr = mean_squared_error(y_test, y_pred, squared=False)\n",
    "mae_svr = mean_absolute_error(y_test, y_pred)\n",
    "r2_svr = r2_score(y_test, y_pred)\n",
    "\n",
    "##GHI(maxvalue) = 1050\n",
    "##GHI(minvalue) = 0\n",
    "\n",
    "print(\"Support Vector Regression:\")\n",
    "\n",
    "max_rmse = 1050\n",
    "min_rmse = 0\n",
    "original_rmse = rmse_svr * (max_rmse - min_rmse) + min_rmse\n",
    "print('RMSE: ', original_rmse) \n",
    "\n",
    "max_mae = 1050\n",
    "min_mae = 0\n",
    "original_mae = mae_svr * (max_mae - min_mae) + min_mae\n",
    "print('MAE:', original_mae) \n",
    "\n",
    "print(\"R-squared: \", r2_svr)"
   ]
  },
  {
   "cell_type": "code",
   "execution_count": 12,
   "id": "ca6f4c34",
   "metadata": {},
   "outputs": [
    {
     "name": "stdout",
     "output_type": "stream",
     "text": [
      "K-Nearest Neighbors Regression:\n",
      "RMSE:  77.22680108563716\n",
      "MAE: 44.42618643496245\n",
      "R-squared:  0.9225429010794879\n"
     ]
    }
   ],
   "source": [
    "from sklearn.neighbors import KNeighborsRegressor\n",
    "knn = KNeighborsRegressor(n_neighbors=10)\n",
    "knn.fit(X_train, y_train)\n",
    "y_pred_knn = knn.predict(X_test)\n",
    "rmse_knn = mean_squared_error(y_test, y_pred_knn, squared=False)\n",
    "mae_knn = mean_absolute_error(y_test, y_pred_knn)\n",
    "r2_knn = r2_score(y_test, y_pred_knn)\n",
    "\n",
    "##GHI(maxvalue) = 1050\n",
    "##GHI(minvalue) = 0\n",
    "\n",
    "print('K-Nearest Neighbors Regression:')\n",
    "max_rmse = 1050\n",
    "min_rmse = 0\n",
    "original_rmse = rmse_knn * (max_rmse - min_rmse) + min_rmse\n",
    "print('RMSE: ', original_rmse) \n",
    "\n",
    "max_mae = 1050\n",
    "min_mae = 0\n",
    "original_mae = mae_knn * (max_mae - min_mae) + min_mae\n",
    "print('MAE:', original_mae) \n",
    "\n",
    "print(\"R-squared: \", r2_knn)"
   ]
  },
  {
   "cell_type": "code",
   "execution_count": 14,
   "id": "68b034e0",
   "metadata": {},
   "outputs": [
    {
     "name": "stderr",
     "output_type": "stream",
     "text": [
      "C:\\Users\\suraj\\anaconda3\\lib\\site-packages\\sklearn\\neural_network\\_multilayer_perceptron.py:1617: DataConversionWarning: A column-vector y was passed when a 1d array was expected. Please change the shape of y to (n_samples, ), for example using ravel().\n",
      "  y = column_or_1d(y, warn=True)\n"
     ]
    },
    {
     "name": "stdout",
     "output_type": "stream",
     "text": [
      "RMSE: 71.7481158631729\n",
      "MAE: 45.34895896364032\n",
      "R-squared: 0.9331431151577448\n"
     ]
    }
   ],
   "source": [
    "from sklearn.neural_network import MLPRegressor\n",
    "\n",
    "X_train_scaled = scaler.fit_transform(X_train)\n",
    "X_test_scaled = scaler.transform(X_test)\n",
    "\n",
    "mlp = MLPRegressor(hidden_layer_sizes=(50, 50, 50, 50, 50), activation='relu', solver='adam', max_iter=100, random_state=42)\n",
    "mlp.fit(X_train_scaled, y_train)\n",
    "y_pred = mlp.predict(X_test_scaled)\n",
    "\n",
    "rmse_ann = mean_squared_error(y_test, y_pred, squared=False)\n",
    "mae_ann = mean_absolute_error(y_test, y_pred)\n",
    "r2_ann = r2_score(y_test, y_pred)\n",
    "\n",
    "max_value = 1050\n",
    "min_value = 0\n",
    "original_rmse = rmse_ann * (max_value - min_value) + min_value\n",
    "original_mae = mae_ann * (max_value - min_value) + min_value\n",
    "\n",
    "print('RMSE:', original_rmse)\n",
    "print('MAE:', original_mae)\n",
    "print('R-squared:', r2_ann)"
   ]
  },
  {
   "cell_type": "code",
   "execution_count": null,
   "id": "8123a3aa",
   "metadata": {},
   "outputs": [],
   "source": []
  }
 ],
 "metadata": {
  "kernelspec": {
   "display_name": "Python 3 (ipykernel)",
   "language": "python",
   "name": "python3"
  },
  "language_info": {
   "codemirror_mode": {
    "name": "ipython",
    "version": 3
   },
   "file_extension": ".py",
   "mimetype": "text/x-python",
   "name": "python",
   "nbconvert_exporter": "python",
   "pygments_lexer": "ipython3",
   "version": "3.10.9"
  }
 },
 "nbformat": 4,
 "nbformat_minor": 5
}
